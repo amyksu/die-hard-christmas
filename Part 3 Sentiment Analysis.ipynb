{
 "cells": [
  {
   "cell_type": "markdown",
   "metadata": {},
   "source": [
    "# Introduction\n",
    "\n",
    "The purpose of this notebook will be to test different Sentiment Analysis techniques. \n",
    "\n",
    "First, I will use a technique proposed by Peter Turney in his paper [Thumbs Up or Thumbs Down? Semantic Orientation Applied to Unsupervised Classification of Reviews](https://arxiv.org/abs/cs/0212032). \n",
    "\n",
    "Next, I will train the TextBlob sentiment analysis tool to accurately capture the sentiment of tweets in my data.\n",
    "\n",
    "## Step 0: Recap \n",
    "\n",
    "First, I will be reperforming a few of the same steps from part 2 such as reading in the libraries and csv file, cleaning the tweets, tokenizing the tweets, and counting the most common words and co-occurrences. "
   ]
  },
  {
   "cell_type": "code",
   "execution_count": 1,
   "metadata": {},
   "outputs": [],
   "source": [
    "import re\n",
    "from textblob import TextBlob\n",
    "import pandas as pd\n",
    "import numpy as np\n",
    "import matplotlib.pyplot as plt\n",
    "import seaborn as sns\n",
    "import nltk\n",
    "from nltk.corpus import stopwords\n",
    "import string\n",
    "import warnings\n",
    "warnings.filterwarnings(\"ignore\", category=DeprecationWarning)\n",
    "\n",
    "%matplotlib inline"
   ]
  },
  {
   "cell_type": "code",
   "execution_count": 2,
   "metadata": {},
   "outputs": [
    {
     "data": {
      "text/html": [
       "<div>\n",
       "<style scoped>\n",
       "    .dataframe tbody tr th:only-of-type {\n",
       "        vertical-align: middle;\n",
       "    }\n",
       "\n",
       "    .dataframe tbody tr th {\n",
       "        vertical-align: top;\n",
       "    }\n",
       "\n",
       "    .dataframe thead th {\n",
       "        text-align: right;\n",
       "    }\n",
       "</style>\n",
       "<table border=\"1\" class=\"dataframe\">\n",
       "  <thead>\n",
       "    <tr style=\"text-align: right;\">\n",
       "      <th></th>\n",
       "      <th>Tweet</th>\n",
       "    </tr>\n",
       "  </thead>\n",
       "  <tbody>\n",
       "    <tr>\n",
       "      <th>0</th>\n",
       "      <td>Terrible take. Die Hard is a Christmas movie a...</td>\n",
       "    </tr>\n",
       "    <tr>\n",
       "      <th>1</th>\n",
       "      <td>Uhhh die hard is a Christmas movie fight me</td>\n",
       "    </tr>\n",
       "    <tr>\n",
       "      <th>2</th>\n",
       "      <td>Broke: Die Hard is a Christmas movie.  Woke: E...</td>\n",
       "    </tr>\n",
       "    <tr>\n",
       "      <th>3</th>\n",
       "      <td>Okay I'm like 97% Die Hard is a Christmas movi...</td>\n",
       "    </tr>\n",
       "    <tr>\n",
       "      <th>4</th>\n",
       "      <td>「ダイ・ハード」がクリスマス映画かどうかを登場要素から徹底検証 https://t.co/y...</td>\n",
       "    </tr>\n",
       "  </tbody>\n",
       "</table>\n",
       "</div>"
      ],
      "text/plain": [
       "                                               Tweet\n",
       "0  Terrible take. Die Hard is a Christmas movie a...\n",
       "1        Uhhh die hard is a Christmas movie fight me\n",
       "2  Broke: Die Hard is a Christmas movie.  Woke: E...\n",
       "3  Okay I'm like 97% Die Hard is a Christmas movi...\n",
       "4  「ダイ・ハード」がクリスマス映画かどうかを登場要素から徹底検証 https://t.co/y..."
      ]
     },
     "execution_count": 2,
     "metadata": {},
     "output_type": "execute_result"
    }
   ],
   "source": [
    "df = pd.read_csv('die-hard-tweets-no-retweets.csv')\n",
    "df.columns = ['Tweet']\n",
    "df.head()"
   ]
  },
  {
   "cell_type": "code",
   "execution_count": 3,
   "metadata": {},
   "outputs": [
    {
     "data": {
      "text/html": [
       "<div>\n",
       "<style scoped>\n",
       "    .dataframe tbody tr th:only-of-type {\n",
       "        vertical-align: middle;\n",
       "    }\n",
       "\n",
       "    .dataframe tbody tr th {\n",
       "        vertical-align: top;\n",
       "    }\n",
       "\n",
       "    .dataframe thead th {\n",
       "        text-align: right;\n",
       "    }\n",
       "</style>\n",
       "<table border=\"1\" class=\"dataframe\">\n",
       "  <thead>\n",
       "    <tr style=\"text-align: right;\">\n",
       "      <th></th>\n",
       "      <th>Tweet</th>\n",
       "      <th>clean_tweet</th>\n",
       "    </tr>\n",
       "  </thead>\n",
       "  <tbody>\n",
       "    <tr>\n",
       "      <th>0</th>\n",
       "      <td>Terrible take. Die Hard is a Christmas movie a...</td>\n",
       "      <td>terrible take die hard is a christmas movie an...</td>\n",
       "    </tr>\n",
       "    <tr>\n",
       "      <th>1</th>\n",
       "      <td>Uhhh die hard is a Christmas movie fight me</td>\n",
       "      <td>uhhh die hard is a christmas movie fight me</td>\n",
       "    </tr>\n",
       "    <tr>\n",
       "      <th>2</th>\n",
       "      <td>Broke: Die Hard is a Christmas movie.  Woke: E...</td>\n",
       "      <td>broke die hard is a christmas movie woke eyes ...</td>\n",
       "    </tr>\n",
       "    <tr>\n",
       "      <th>3</th>\n",
       "      <td>Okay I'm like 97% Die Hard is a Christmas movi...</td>\n",
       "      <td>okay im like 97 die hard is a christmas movie ...</td>\n",
       "    </tr>\n",
       "    <tr>\n",
       "      <th>4</th>\n",
       "      <td>「ダイ・ハード」がクリスマス映画かどうかを登場要素から徹底検証 https://t.co/y...</td>\n",
       "      <td>「ダイ・ハード」がクリスマス映画かどうかを登場要素から徹底検証</td>\n",
       "    </tr>\n",
       "    <tr>\n",
       "      <th>5</th>\n",
       "      <td>Okay, Darren, I concede. Even though Bruce Wil...</td>\n",
       "      <td>okay darren i concede even though bruce willis...</td>\n",
       "    </tr>\n",
       "    <tr>\n",
       "      <th>6</th>\n",
       "      <td>@FakeFakeNedYost If Die Hard is a Christmas mo...</td>\n",
       "      <td>if die hard is a christmas movie than die har...</td>\n",
       "    </tr>\n",
       "    <tr>\n",
       "      <th>7</th>\n",
       "      <td>Im sad cause I forgot to watch Die Hard for Ch...</td>\n",
       "      <td>im sad cause i forgot to watch die hard for ch...</td>\n",
       "    </tr>\n",
       "    <tr>\n",
       "      <th>8</th>\n",
       "      <td>Well, I guess Die Hard *is* a Christmas tradit...</td>\n",
       "      <td>well i guess die hard is a christmas tradition...</td>\n",
       "    </tr>\n",
       "    <tr>\n",
       "      <th>9</th>\n",
       "      <td>Perhaps then a Boxing Day movie? https://t.co/...</td>\n",
       "      <td>perhaps then a boxing day movie</td>\n",
       "    </tr>\n",
       "    <tr>\n",
       "      <th>10</th>\n",
       "      <td>If your Christmas movie prerequisites DQ Die H...</td>\n",
       "      <td>if your christmas movie prerequisites dq die h...</td>\n",
       "    </tr>\n",
       "    <tr>\n",
       "      <th>11</th>\n",
       "      <td>Final tally on top 5 Christmas movies: #1 Aven...</td>\n",
       "      <td>final tally on top 5 christmas movies 1 avenge...</td>\n",
       "    </tr>\n",
       "    <tr>\n",
       "      <th>12</th>\n",
       "      <td>Just watched Die Hard again for the first time...</td>\n",
       "      <td>just watched die hard again for the first time...</td>\n",
       "    </tr>\n",
       "    <tr>\n",
       "      <th>13</th>\n",
       "      <td>Forget 'Die Hard,' 'Go' Is the Ultimate Anti-C...</td>\n",
       "      <td>forget die hard go is the ultimate antichristm...</td>\n",
       "    </tr>\n",
       "    <tr>\n",
       "      <th>14</th>\n",
       "      <td>@BergmanGreg Pains me to write this. Die Hard ...</td>\n",
       "      <td>pains me to write this die hard is one of my ...</td>\n",
       "    </tr>\n",
       "    <tr>\n",
       "      <th>15</th>\n",
       "      <td>Now that Christmas is over, the new debate: is...</td>\n",
       "      <td>now that christmas is over the new debate is d...</td>\n",
       "    </tr>\n",
       "    <tr>\n",
       "      <th>16</th>\n",
       "      <td>Die Hard is a Christmas car battery.</td>\n",
       "      <td>die hard is a christmas car battery</td>\n",
       "    </tr>\n",
       "    <tr>\n",
       "      <th>17</th>\n",
       "      <td>@elsalonrojo @Filmsteria Espero que esto ayude...</td>\n",
       "      <td>espero que esto ayude a terminar con la contr...</td>\n",
       "    </tr>\n",
       "    <tr>\n",
       "      <th>18</th>\n",
       "      <td>I guess Die Hard is a Christmas movie. https:/...</td>\n",
       "      <td>i guess die hard is a christmas movie</td>\n",
       "    </tr>\n",
       "    <tr>\n",
       "      <th>19</th>\n",
       "      <td>@MrCFB A Christmas Story, Die Hard, Rudolph th...</td>\n",
       "      <td>a christmas story die hard rudolph the red no...</td>\n",
       "    </tr>\n",
       "    <tr>\n",
       "      <th>20</th>\n",
       "      <td>2018: the year everyone made a joke about how ...</td>\n",
       "      <td>2018 the year everyone made a joke about how d...</td>\n",
       "    </tr>\n",
       "    <tr>\n",
       "      <th>21</th>\n",
       "      <td>There are two types of people in the world: th...</td>\n",
       "      <td>there are two types of people in the world tho...</td>\n",
       "    </tr>\n",
       "    <tr>\n",
       "      <th>22</th>\n",
       "      <td>Christmas is ruined because I can’t find Die H...</td>\n",
       "      <td>christmas is ruined because i can’t find die h...</td>\n",
       "    </tr>\n",
       "    <tr>\n",
       "      <th>23</th>\n",
       "      <td>Die Hard [is / is not] a Christmas movie. I co...</td>\n",
       "      <td>die hard is is not a christmas movie i conside...</td>\n",
       "    </tr>\n",
       "    <tr>\n",
       "      <th>24</th>\n",
       "      <td>If die hard is a Christmas movie then friday a...</td>\n",
       "      <td>if die hard is a christmas movie then friday a...</td>\n",
       "    </tr>\n",
       "  </tbody>\n",
       "</table>\n",
       "</div>"
      ],
      "text/plain": [
       "                                                Tweet  \\\n",
       "0   Terrible take. Die Hard is a Christmas movie a...   \n",
       "1         Uhhh die hard is a Christmas movie fight me   \n",
       "2   Broke: Die Hard is a Christmas movie.  Woke: E...   \n",
       "3   Okay I'm like 97% Die Hard is a Christmas movi...   \n",
       "4   「ダイ・ハード」がクリスマス映画かどうかを登場要素から徹底検証 https://t.co/y...   \n",
       "5   Okay, Darren, I concede. Even though Bruce Wil...   \n",
       "6   @FakeFakeNedYost If Die Hard is a Christmas mo...   \n",
       "7   Im sad cause I forgot to watch Die Hard for Ch...   \n",
       "8   Well, I guess Die Hard *is* a Christmas tradit...   \n",
       "9   Perhaps then a Boxing Day movie? https://t.co/...   \n",
       "10  If your Christmas movie prerequisites DQ Die H...   \n",
       "11  Final tally on top 5 Christmas movies: #1 Aven...   \n",
       "12  Just watched Die Hard again for the first time...   \n",
       "13  Forget 'Die Hard,' 'Go' Is the Ultimate Anti-C...   \n",
       "14  @BergmanGreg Pains me to write this. Die Hard ...   \n",
       "15  Now that Christmas is over, the new debate: is...   \n",
       "16               Die Hard is a Christmas car battery.   \n",
       "17  @elsalonrojo @Filmsteria Espero que esto ayude...   \n",
       "18  I guess Die Hard is a Christmas movie. https:/...   \n",
       "19  @MrCFB A Christmas Story, Die Hard, Rudolph th...   \n",
       "20  2018: the year everyone made a joke about how ...   \n",
       "21  There are two types of people in the world: th...   \n",
       "22  Christmas is ruined because I can’t find Die H...   \n",
       "23  Die Hard [is / is not] a Christmas movie. I co...   \n",
       "24  If die hard is a Christmas movie then friday a...   \n",
       "\n",
       "                                          clean_tweet  \n",
       "0   terrible take die hard is a christmas movie an...  \n",
       "1         uhhh die hard is a christmas movie fight me  \n",
       "2   broke die hard is a christmas movie woke eyes ...  \n",
       "3   okay im like 97 die hard is a christmas movie ...  \n",
       "4                    「ダイ・ハード」がクリスマス映画かどうかを登場要素から徹底検証   \n",
       "5   okay darren i concede even though bruce willis...  \n",
       "6    if die hard is a christmas movie than die har...  \n",
       "7   im sad cause i forgot to watch die hard for ch...  \n",
       "8   well i guess die hard is a christmas tradition...  \n",
       "9                    perhaps then a boxing day movie   \n",
       "10  if your christmas movie prerequisites dq die h...  \n",
       "11  final tally on top 5 christmas movies 1 avenge...  \n",
       "12  just watched die hard again for the first time...  \n",
       "13  forget die hard go is the ultimate antichristm...  \n",
       "14   pains me to write this die hard is one of my ...  \n",
       "15  now that christmas is over the new debate is d...  \n",
       "16                die hard is a christmas car battery  \n",
       "17   espero que esto ayude a terminar con la contr...  \n",
       "18             i guess die hard is a christmas movie   \n",
       "19   a christmas story die hard rudolph the red no...  \n",
       "20  2018 the year everyone made a joke about how d...  \n",
       "21  there are two types of people in the world tho...  \n",
       "22  christmas is ruined because i can’t find die h...  \n",
       "23  die hard is is not a christmas movie i conside...  \n",
       "24  if die hard is a christmas movie then friday a...  "
      ]
     },
     "execution_count": 3,
     "metadata": {},
     "output_type": "execute_result"
    }
   ],
   "source": [
    "# First, create function to remove Twitter Handles\n",
    "def clean_tweet(tweet):\n",
    "    tweet = re.sub('http\\S+\\s*', '', tweet) #removes all urls\n",
    "    tweet = re.sub('RT|cc', '', tweet) #removes RT and CC's \n",
    "    tweet = re.sub('@\\S+', '', tweet) #removes mentions\n",
    "    tweet = re.sub('[%s]' % re.escape(\"\"\"!\"#$%&'()*+,-./:;<=>?@[\\]^_`{|}~\"\"\"), '', tweet) #removes any special characters\n",
    "    tweet = re.sub('\\s+',' ', tweet) #removes blank spaces\n",
    "    return tweet.lower()\n",
    "\n",
    "# Remove twitter handles\n",
    "df['clean_tweet'] = np.vectorize(clean_tweet)(df['Tweet'])\n",
    "df.head(25)"
   ]
  },
  {
   "cell_type": "code",
   "execution_count": 5,
   "metadata": {},
   "outputs": [
    {
     "data": {
      "text/html": [
       "<div>\n",
       "<style scoped>\n",
       "    .dataframe tbody tr th:only-of-type {\n",
       "        vertical-align: middle;\n",
       "    }\n",
       "\n",
       "    .dataframe tbody tr th {\n",
       "        vertical-align: top;\n",
       "    }\n",
       "\n",
       "    .dataframe thead th {\n",
       "        text-align: right;\n",
       "    }\n",
       "</style>\n",
       "<table border=\"1\" class=\"dataframe\">\n",
       "  <thead>\n",
       "    <tr style=\"text-align: right;\">\n",
       "      <th></th>\n",
       "      <th>Tweet</th>\n",
       "      <th>clean_tweet</th>\n",
       "    </tr>\n",
       "  </thead>\n",
       "  <tbody>\n",
       "    <tr>\n",
       "      <th>0</th>\n",
       "      <td>Terrible take. Die Hard is a Christmas movie a...</td>\n",
       "      <td>terrible take die hard is a christmas movie an...</td>\n",
       "    </tr>\n",
       "    <tr>\n",
       "      <th>1</th>\n",
       "      <td>Uhhh die hard is a Christmas movie fight me</td>\n",
       "      <td>uhhh die hard is a christmas movie fight me</td>\n",
       "    </tr>\n",
       "    <tr>\n",
       "      <th>2</th>\n",
       "      <td>Broke: Die Hard is a Christmas movie.  Woke: E...</td>\n",
       "      <td>broke die hard is a christmas movie woke eyes ...</td>\n",
       "    </tr>\n",
       "    <tr>\n",
       "      <th>3</th>\n",
       "      <td>Okay I'm like 97% Die Hard is a Christmas movi...</td>\n",
       "      <td>okay im like 97 die hard is a christmas movie ...</td>\n",
       "    </tr>\n",
       "    <tr>\n",
       "      <th>4</th>\n",
       "      <td>「ダイ・ハード」がクリスマス映画かどうかを登場要素から徹底検証 https://t.co/y...</td>\n",
       "      <td>「ダイ・ハード」がクリスマス映画かどうかを登場要素から徹底検証</td>\n",
       "    </tr>\n",
       "  </tbody>\n",
       "</table>\n",
       "</div>"
      ],
      "text/plain": [
       "                                               Tweet  \\\n",
       "0  Terrible take. Die Hard is a Christmas movie a...   \n",
       "1        Uhhh die hard is a Christmas movie fight me   \n",
       "2  Broke: Die Hard is a Christmas movie.  Woke: E...   \n",
       "3  Okay I'm like 97% Die Hard is a Christmas movi...   \n",
       "4  「ダイ・ハード」がクリスマス映画かどうかを登場要素から徹底検証 https://t.co/y...   \n",
       "\n",
       "                                         clean_tweet  \n",
       "0  terrible take die hard is a christmas movie an...  \n",
       "1        uhhh die hard is a christmas movie fight me  \n",
       "2  broke die hard is a christmas movie woke eyes ...  \n",
       "3  okay im like 97 die hard is a christmas movie ...  \n",
       "4                   「ダイ・ハード」がクリスマス映画かどうかを登場要素から徹底検証   "
      ]
     },
     "execution_count": 5,
     "metadata": {},
     "output_type": "execute_result"
    }
   ],
   "source": [
    "df['clean_tweet'].replace(' ', np.nan, inplace=True)\n",
    "df = df.dropna()\n",
    "\n",
    "# Reset indeces\n",
    "df.index = range(2097)\n",
    "df.head()"
   ]
  },
  {
   "cell_type": "code",
   "execution_count": 6,
   "metadata": {},
   "outputs": [
    {
     "data": {
      "text/plain": [
       "(2097, 2)"
      ]
     },
     "execution_count": 6,
     "metadata": {},
     "output_type": "execute_result"
    }
   ],
   "source": [
    "df.shape"
   ]
  },
  {
   "cell_type": "code",
   "execution_count": 7,
   "metadata": {},
   "outputs": [
    {
     "data": {
      "text/plain": [
       "0    [terrible, take, die, hard, is, a, christmas, ...\n",
       "1    [uhhh, die, hard, is, a, christmas, movie, fig...\n",
       "2    [broke, die, hard, is, a, christmas, movie, wo...\n",
       "3    [okay, im, like, 97, die, hard, is, a, christm...\n",
       "4                    [「ダイ・ハード」がクリスマス映画かどうかを登場要素から徹底検証]\n",
       "Name: clean_tweet, dtype: object"
      ]
     },
     "execution_count": 7,
     "metadata": {},
     "output_type": "execute_result"
    }
   ],
   "source": [
    "tokenized_tweet = df['clean_tweet'].apply(lambda x: x.split())\n",
    "tokenized_tweet.head()"
   ]
  },
  {
   "cell_type": "code",
   "execution_count": 8,
   "metadata": {},
   "outputs": [
    {
     "name": "stdout",
     "output_type": "stream",
     "text": [
      "[('christmas', 2588), ('hard', 2034), ('die', 2024), ('a', 1998), ('is', 1538)]\n"
     ]
    }
   ],
   "source": [
    "import operator\n",
    "from collections import Counter\n",
    "\n",
    "count_all = Counter()\n",
    "for line in tokenized_tweet:\n",
    "    count_all.update(line)\n",
    "print(count_all.most_common(5))"
   ]
  },
  {
   "cell_type": "markdown",
   "metadata": {},
   "source": [
    "Next, we will import the defaultdict function which takes a function object as an argument and will return a value, in our case an integer. This will help facilitate our calculation of the probability of observing the terms individually and ocurring together.\n",
    "\n",
    "We will use the code we used to create the co-occurences matrix to facilitate this process."
   ]
  },
  {
   "cell_type": "code",
   "execution_count": 9,
   "metadata": {},
   "outputs": [
    {
     "name": "stdout",
     "output_type": "stream",
     "text": [
      "[(('a', 'christmas'), 2934), (('christmas', 'hard'), 2638), (('christmas', 'die'), 2617), (('die', 'hard'), 2230), (('christmas', 'is'), 2200), (('christmas', 'movie'), 2122), (('a', 'hard'), 2071), (('a', 'die'), 2044), (('a', 'is'), 2042), (('a', 'movie'), 2005), (('christmas', 'the'), 1952), (('is', 'movie'), 1619), (('hard', 'is'), 1597), (('die', 'is'), 1569), (('die', 'movie'), 1530), (('hard', 'movie'), 1528), (('hard', 'the'), 1343), (('die', 'the'), 1340), (('is', 'the'), 1190), (('movie', 'the'), 969)]\n"
     ]
    }
   ],
   "source": [
    "# co-occurences matrix \n",
    "from collections import defaultdict\n",
    "\n",
    "com = defaultdict(lambda : defaultdict(int))\n",
    " \n",
    "for line in tokenized_tweet: \n",
    "    terms_only = [term for term in line \n",
    "                  if not term.startswith(('#', '@'))]\n",
    "\n",
    "    # Build co-occurrence matrix\n",
    "    for i in range(len(terms_only)-1):            \n",
    "        for j in range(i+1, len(terms_only)):\n",
    "            w1, w2 = sorted([terms_only[i], terms_only[j]])                \n",
    "            if w1 != w2:\n",
    "                com[w1][w2] += 1\n",
    "                \n",
    "com_max = []\n",
    "# For each term, look for the most common co-occurrent terms\n",
    "for t1 in com:\n",
    "    t1_max_terms = sorted(com[t1].items(), key=operator.itemgetter(1), reverse=True)[:5]\n",
    "    for t2, t2_count in t1_max_terms:\n",
    "        com_max.append(((t1, t2), t2_count))\n",
    "\n",
    "        # Get the most frequent co-occurrences\n",
    "terms_max = sorted(com_max, key=operator.itemgetter(1), reverse=True)\n",
    "print(terms_max[:20])"
   ]
  },
  {
   "cell_type": "markdown",
   "metadata": {},
   "source": [
    "## Step 1: Semantic Orientation\n",
    "\n",
    "As mentioned above, I will first be doing Peter Turney’s technique to perform sentiment analysis (I encourage you to read his paper for more information as my technique is a simplification of his technique). The basis of this technique classifies phrases based on its association with positive and negative words. This classification is defined as Semantic Orientation. To do this, we must first calculate how close a word is with positive and negative words such as “good” and “bad”. This measure of closeness is called the Pointwise Mutual Information (PMI), which is calculated as: \n",
    "\n",
    "PMI(t1, t2) = log((P(t1 ^ t2))/P(t1) - P(t2))\n",
    "\n",
    "where t1 and t2 are terms. \n",
    "\n",
    "In order to computer P(t), the probability of observing the term t, and P(t1 ^ t2), the probability of observing terms t1 and t2 together), we can re-use the code used to calculate the term frequencies and term co-occurrences that we did above.\n",
    "\n",
    "To calculate the probabilities, we will use the following equation:\n",
    "\n",
    "P(t) = DF(t) / abs(D)\n",
    "\n",
    "P(t1 ^ t2) = DF(t1 ^ t2) / abs(D)\n",
    "\n",
    "where DF is Document Frequency of a term which is the number of time the term occurs in the document or tweets, in our case, and D is the set of documents/tweets."
   ]
  },
  {
   "cell_type": "code",
   "execution_count": 10,
   "metadata": {},
   "outputs": [],
   "source": [
    "# Import defaultdict\n",
    "from collections import defaultdict\n",
    "\n",
    "# from our shape argument, we see our total amount of tweets is 2,096\n",
    "p_t = {}\n",
    "p_t_com = defaultdict(lambda : defaultdict(int))\n",
    "\n",
    "for term, n in count_all.items():\n",
    "    p_t[term] = n/2096\n",
    "    for t2 in com[term]:\n",
    "        p_t_com[term][t2] = com[term][t2]/2096"
   ]
  },
  {
   "cell_type": "markdown",
   "metadata": {},
   "source": [
    "Next, I will define words that will help determine whether a tweet has a positive vs negative opinion. "
   ]
  },
  {
   "cell_type": "code",
   "execution_count": 11,
   "metadata": {},
   "outputs": [],
   "source": [
    "positive_vocab = ['good', 'great', 'favorite', 'yes', 'right', 'great', \n",
    "                  'terrific', ':)', ':-)', 'endorse', 'is', 'agree', 'awesome', 'fantastic',\n",
    "                 'best', 'better', 'correct', 'like', 'love', 'outstanding']\n",
    "\n",
    "negative_vocab = ['isnt', 'terrible', 'isn\\'t', 'not', 'bad', 'no', 'wrong', \n",
    "                  'disagree', 'dont', 'don\\'t', 'worse', 'worst', 'hate'\n",
    "                 ':(', ':-(']"
   ]
  },
  {
   "cell_type": "markdown",
   "metadata": {},
   "source": [
    "Now, I will perform the calculation for PMI that we defined above.  I will also define the Semantic Orientation (SO) using the positive and negative vocabulary defined above."
   ]
  },
  {
   "cell_type": "code",
   "execution_count": 12,
   "metadata": {},
   "outputs": [],
   "source": [
    "import math\n",
    "\n",
    "pmi = defaultdict(lambda : defaultdict(int))\n",
    "for t1 in p_t:\n",
    "    for t2 in com[t1]:\n",
    "        denom = p_t[t1] * p_t[t2]\n",
    "        pmi[t1][t2] = math.log2(p_t_com[t1][t2]/denom)\n",
    "\n",
    "semantic_orientation = {}\n",
    "for term, n in p_t.items():\n",
    "    positive_assoc = sum(pmi[term][tx] for tx in positive_vocab)\n",
    "    negative_assoc = sum(pmi[term][tx] for tx in negative_vocab)\n",
    "    semantic_orientation[term] = positive_assoc - negative_assoc"
   ]
  },
  {
   "cell_type": "markdown",
   "metadata": {},
   "source": [
    "Now that the semantic orientation has been defined, I will sort the words in the tweets based on negative and positive sentiment.  "
   ]
  },
  {
   "cell_type": "code",
   "execution_count": 13,
   "metadata": {},
   "outputs": [
    {
     "name": "stdout",
     "output_type": "stream",
     "text": [
      "Top Positive Terms:\n",
      "[('4th', 22.958244518024493), ('affect', 22.806366566188657), ('church', 22.47055575806039), ('earth', 19.729368543140435), ('classics', 18.77542571172153), ('brazil', 17.81733768400966), ('bringing', 17.80636656618866), ('fam', 17.353632146724294), ('arsenal', 16.41773022530042), ('drag', 16.41773022530042), ('ep', 16.41773022530042), ('amy', 16.41773022530042), ('easter', 16.139265778897027), ('breaker', 15.81733768400966), ('150', 15.16526098742997), ('andor', 14.41773022530042), ('alternative', 14.386459574274337), ('deal', 14.06245018184619), ('beat', 13.477487681125035), ('done', 13.063433918157239)]\n",
      "Top Negative Terms:\n",
      "[('1976', -9.989533379808881), ('anything', -10.191921299593476), ('brave', -10.484704021416123), ('doublestandard', -10.484704021416123), ('important', -10.584089176945792), ('niggas', -10.97408886215505), ('inside', -11.446585653195857), ('howl', -11.446585653195857), ('either', -11.808158884648607), ('mariahs', -11.89316886677148), ('neighborhood', -11.89316886677148), ('incredibly', -12.108510135731898), ('hug', -12.108510135731898), ('growing', -12.108510135731898), ('lose', -12.586741865424306), ('delivers', -12.895748936379329), ('hipster', -13.227945366720517), ('importantly', -13.453242377807339), ('ignorant', -14.597894976470824), ('confirms', -17.536854515138018)]\n"
     ]
    }
   ],
   "source": [
    "semantic_sorted = sorted(semantic_orientation.items(),\n",
    "                        key=operator.itemgetter(1),\n",
    "                        reverse=True)\n",
    "top_pos = semantic_sorted[:20]\n",
    "top_neg = semantic_sorted[-20:]\n",
    "\n",
    "print('Top Positive Terms:')\n",
    "print(top_pos)\n",
    "\n",
    "print('Top Negative Terms:')\n",
    "print(top_neg)"
   ]
  },
  {
   "cell_type": "markdown",
   "metadata": {},
   "source": [
    "As the top positive and negative do not really tell us much about whether people believe *Die Hard* is or is not a Christmas movie, let's look specifically at whether specific words relating to 'Die', 'Hard', and 'Christmas' have a positive or negative orientation. "
   ]
  },
  {
   "cell_type": "code",
   "execution_count": 14,
   "metadata": {},
   "outputs": [
    {
     "name": "stdout",
     "output_type": "stream",
     "text": [
      "Orientation for Die: -0.021344\n",
      "Orientation for Hard: 0.977816\n",
      "Orientation for Christmas: 1.058212\n"
     ]
    }
   ],
   "source": [
    "print('Orientation for Die: %f' % semantic_orientation['die'])\n",
    "print('Orientation for Hard: %f' % semantic_orientation['hard'])\n",
    "print('Orientation for Christmas: %f' % semantic_orientation['christmas'])"
   ]
  },
  {
   "cell_type": "markdown",
   "metadata": {},
   "source": [
    "As we can see, two of the three terms have strong positive orientations and the one with the negative orientation, “Die”, is fairly low, with less than 1%. We can also attribute the negative orientation to the fact that “Die” as a word itself has a negative connotation. \n",
    "\n",
    "Therefore, based on this information, we can conclude that most of the words related to these terms are mostly positive and therefore, have a positive opinion with regards to whether Die Hard is a Christmas movie.\n",
    "\n",
    "## Step 2: TextBlob\n",
    "\n",
    "Now that we’ve tried one technique, let’s try and confirm our conclusion by using the TextBlob library. The TextBlob library is used for sentiment analysis by classifying the polarity of a tweet. TextBlob is already trained and therefore easy to use. However, because the wording between positive and negative tweets are so similar, I will train the classifier by using the *textblob.classifiers* module to create custom classifiers.\n",
    "\n",
    "First, I'll enter in some training data that I've extracted from my Twitter pull that I will mark as positive or negative."
   ]
  },
  {
   "cell_type": "code",
   "execution_count": 15,
   "metadata": {},
   "outputs": [],
   "source": [
    "train = [\n",
    "    ('die hard is christmas movie', 'pos'), \n",
    "    ('die hard is christmas story', 'pos'),\n",
    "    ('die hard is best christmas movie', 'pos'),\n",
    "    ('die hard is favorite christmas movie', 'pos'), \n",
    "    ('die hard is ultimate christmas movie', 'pos'), \n",
    "    ('die hard is great christmas movie', 'pos'),   \n",
    "    ('die hard isn’t christmas movie', 'neg'), \n",
    "    ('die hard not christmas movie', 'neg'), \n",
    "    ('die hard isnt christmas movie', 'neg'),\n",
    "    ('i dont think die hard christmas movie', 'neg'),\n",
    "    ('people who think die hard christmas movie are wrong', 'neg'),\n",
    "    ('die hard still isn’t christmas movie it’s just set at christmas', 'neg')\n",
    "]"
   ]
  },
  {
   "cell_type": "markdown",
   "metadata": {},
   "source": [
    "Now that we have the train data, we can use the NaiveBayesClassifier to train our classifier. By using the NaiveBayesClassifier, we are overriding the default PatternAnalyzer that is typically used for sentiment analysis within TextBlob. In addition, we will see what informative features determine whether a sentiment is positive or negative. "
   ]
  },
  {
   "cell_type": "code",
   "execution_count": 16,
   "metadata": {},
   "outputs": [],
   "source": [
    "from textblob.classifiers import NaiveBayesClassifier\n",
    "cl = NaiveBayesClassifier(train)"
   ]
  },
  {
   "cell_type": "code",
   "execution_count": 17,
   "metadata": {},
   "outputs": [
    {
     "name": "stdout",
     "output_type": "stream",
     "text": [
      "Most Informative Features\n",
      "         contains(think) = False             pos : neg    =      1.4 : 1.0\n",
      "           contains(isn) = False             pos : neg    =      1.4 : 1.0\n",
      "             contains(t) = False             pos : neg    =      1.4 : 1.0\n",
      "             contains(’) = False             pos : neg    =      1.4 : 1.0\n",
      "         contains(great) = False             neg : pos    =      1.2 : 1.0\n",
      "             contains(s) = False             pos : neg    =      1.2 : 1.0\n",
      "          contains(dont) = False             pos : neg    =      1.2 : 1.0\n",
      "         contains(movie) = True              neg : pos    =      1.2 : 1.0\n",
      "      contains(favorite) = False             neg : pos    =      1.2 : 1.0\n",
      "           contains(are) = False             pos : neg    =      1.2 : 1.0\n"
     ]
    }
   ],
   "source": [
    "cl.show_informative_features(10)"
   ]
  },
  {
   "cell_type": "markdown",
   "metadata": {},
   "source": [
    "Above, we can see the different words that would indicate whether a tweet is positive or negative based on our train data.\n",
    "\n",
    "Now, we will create a function to analye the sentiment of our tweets based on our classifier."
   ]
  },
  {
   "cell_type": "code",
   "execution_count": 18,
   "metadata": {},
   "outputs": [],
   "source": [
    "from textblob import TextBlob\n",
    "\n",
    "def analyze_sentiment(tweet):\n",
    "    analysis = TextBlob(tweet, classifier=cl)\n",
    "    if analysis.sentiment.polarity > 0:\n",
    "        return 1\n",
    "    elif analysis.sentiment.polarity == 0:\n",
    "        return 0\n",
    "    else:\n",
    "        return -1"
   ]
  },
  {
   "cell_type": "markdown",
   "metadata": {},
   "source": [
    "Now that we have created the function, we can assign a sentiment to each of the tweets: 1 for positive, 0 for neutral, and -1 for negative."
   ]
  },
  {
   "cell_type": "code",
   "execution_count": 19,
   "metadata": {
    "scrolled": true
   },
   "outputs": [
    {
     "data": {
      "text/html": [
       "<div>\n",
       "<style scoped>\n",
       "    .dataframe tbody tr th:only-of-type {\n",
       "        vertical-align: middle;\n",
       "    }\n",
       "\n",
       "    .dataframe tbody tr th {\n",
       "        vertical-align: top;\n",
       "    }\n",
       "\n",
       "    .dataframe thead th {\n",
       "        text-align: right;\n",
       "    }\n",
       "</style>\n",
       "<table border=\"1\" class=\"dataframe\">\n",
       "  <thead>\n",
       "    <tr style=\"text-align: right;\">\n",
       "      <th></th>\n",
       "      <th>Tweet</th>\n",
       "      <th>clean_tweet</th>\n",
       "      <th>SA</th>\n",
       "    </tr>\n",
       "  </thead>\n",
       "  <tbody>\n",
       "    <tr>\n",
       "      <th>0</th>\n",
       "      <td>Terrible take. Die Hard is a Christmas movie a...</td>\n",
       "      <td>terrible take die hard is a christmas movie an...</td>\n",
       "      <td>-1</td>\n",
       "    </tr>\n",
       "    <tr>\n",
       "      <th>1</th>\n",
       "      <td>Uhhh die hard is a Christmas movie fight me</td>\n",
       "      <td>uhhh die hard is a christmas movie fight me</td>\n",
       "      <td>-1</td>\n",
       "    </tr>\n",
       "    <tr>\n",
       "      <th>2</th>\n",
       "      <td>Broke: Die Hard is a Christmas movie.  Woke: E...</td>\n",
       "      <td>broke die hard is a christmas movie woke eyes ...</td>\n",
       "      <td>-1</td>\n",
       "    </tr>\n",
       "    <tr>\n",
       "      <th>3</th>\n",
       "      <td>Okay I'm like 97% Die Hard is a Christmas movi...</td>\n",
       "      <td>okay im like 97 die hard is a christmas movie ...</td>\n",
       "      <td>-1</td>\n",
       "    </tr>\n",
       "    <tr>\n",
       "      <th>4</th>\n",
       "      <td>「ダイ・ハード」がクリスマス映画かどうかを登場要素から徹底検証 https://t.co/y...</td>\n",
       "      <td>「ダイ・ハード」がクリスマス映画かどうかを登場要素から徹底検証</td>\n",
       "      <td>0</td>\n",
       "    </tr>\n",
       "    <tr>\n",
       "      <th>5</th>\n",
       "      <td>Okay, Darren, I concede. Even though Bruce Wil...</td>\n",
       "      <td>okay darren i concede even though bruce willis...</td>\n",
       "      <td>1</td>\n",
       "    </tr>\n",
       "    <tr>\n",
       "      <th>6</th>\n",
       "      <td>@FakeFakeNedYost If Die Hard is a Christmas mo...</td>\n",
       "      <td>if die hard is a christmas movie than die har...</td>\n",
       "      <td>-1</td>\n",
       "    </tr>\n",
       "    <tr>\n",
       "      <th>7</th>\n",
       "      <td>Im sad cause I forgot to watch Die Hard for Ch...</td>\n",
       "      <td>im sad cause i forgot to watch die hard for ch...</td>\n",
       "      <td>-1</td>\n",
       "    </tr>\n",
       "    <tr>\n",
       "      <th>8</th>\n",
       "      <td>Well, I guess Die Hard *is* a Christmas tradit...</td>\n",
       "      <td>well i guess die hard is a christmas tradition...</td>\n",
       "      <td>-1</td>\n",
       "    </tr>\n",
       "    <tr>\n",
       "      <th>9</th>\n",
       "      <td>Perhaps then a Boxing Day movie? https://t.co/...</td>\n",
       "      <td>perhaps then a boxing day movie</td>\n",
       "      <td>0</td>\n",
       "    </tr>\n",
       "    <tr>\n",
       "      <th>10</th>\n",
       "      <td>If your Christmas movie prerequisites DQ Die H...</td>\n",
       "      <td>if your christmas movie prerequisites dq die h...</td>\n",
       "      <td>1</td>\n",
       "    </tr>\n",
       "    <tr>\n",
       "      <th>11</th>\n",
       "      <td>Final tally on top 5 Christmas movies: #1 Aven...</td>\n",
       "      <td>final tally on top 5 christmas movies 1 avenge...</td>\n",
       "      <td>1</td>\n",
       "    </tr>\n",
       "    <tr>\n",
       "      <th>12</th>\n",
       "      <td>Just watched Die Hard again for the first time...</td>\n",
       "      <td>just watched die hard again for the first time...</td>\n",
       "      <td>-1</td>\n",
       "    </tr>\n",
       "    <tr>\n",
       "      <th>13</th>\n",
       "      <td>Forget 'Die Hard,' 'Go' Is the Ultimate Anti-C...</td>\n",
       "      <td>forget die hard go is the ultimate antichristm...</td>\n",
       "      <td>-1</td>\n",
       "    </tr>\n",
       "    <tr>\n",
       "      <th>14</th>\n",
       "      <td>@BergmanGreg Pains me to write this. Die Hard ...</td>\n",
       "      <td>pains me to write this die hard is one of my ...</td>\n",
       "      <td>1</td>\n",
       "    </tr>\n",
       "    <tr>\n",
       "      <th>15</th>\n",
       "      <td>Now that Christmas is over, the new debate: is...</td>\n",
       "      <td>now that christmas is over the new debate is d...</td>\n",
       "      <td>-1</td>\n",
       "    </tr>\n",
       "    <tr>\n",
       "      <th>16</th>\n",
       "      <td>Die Hard is a Christmas car battery.</td>\n",
       "      <td>die hard is a christmas car battery</td>\n",
       "      <td>-1</td>\n",
       "    </tr>\n",
       "    <tr>\n",
       "      <th>17</th>\n",
       "      <td>@elsalonrojo @Filmsteria Espero que esto ayude...</td>\n",
       "      <td>espero que esto ayude a terminar con la contr...</td>\n",
       "      <td>0</td>\n",
       "    </tr>\n",
       "    <tr>\n",
       "      <th>18</th>\n",
       "      <td>I guess Die Hard is a Christmas movie. https:/...</td>\n",
       "      <td>i guess die hard is a christmas movie</td>\n",
       "      <td>-1</td>\n",
       "    </tr>\n",
       "    <tr>\n",
       "      <th>19</th>\n",
       "      <td>@MrCFB A Christmas Story, Die Hard, Rudolph th...</td>\n",
       "      <td>a christmas story die hard rudolph the red no...</td>\n",
       "      <td>-1</td>\n",
       "    </tr>\n",
       "    <tr>\n",
       "      <th>20</th>\n",
       "      <td>2018: the year everyone made a joke about how ...</td>\n",
       "      <td>2018 the year everyone made a joke about how d...</td>\n",
       "      <td>-1</td>\n",
       "    </tr>\n",
       "    <tr>\n",
       "      <th>21</th>\n",
       "      <td>There are two types of people in the world: th...</td>\n",
       "      <td>there are two types of people in the world tho...</td>\n",
       "      <td>-1</td>\n",
       "    </tr>\n",
       "    <tr>\n",
       "      <th>22</th>\n",
       "      <td>Christmas is ruined because I can’t find Die H...</td>\n",
       "      <td>christmas is ruined because i can’t find die h...</td>\n",
       "      <td>-1</td>\n",
       "    </tr>\n",
       "    <tr>\n",
       "      <th>23</th>\n",
       "      <td>Die Hard [is / is not] a Christmas movie. I co...</td>\n",
       "      <td>die hard is is not a christmas movie i conside...</td>\n",
       "      <td>-1</td>\n",
       "    </tr>\n",
       "    <tr>\n",
       "      <th>24</th>\n",
       "      <td>If die hard is a Christmas movie then friday a...</td>\n",
       "      <td>if die hard is a christmas movie then friday a...</td>\n",
       "      <td>-1</td>\n",
       "    </tr>\n",
       "  </tbody>\n",
       "</table>\n",
       "</div>"
      ],
      "text/plain": [
       "                                                Tweet  \\\n",
       "0   Terrible take. Die Hard is a Christmas movie a...   \n",
       "1         Uhhh die hard is a Christmas movie fight me   \n",
       "2   Broke: Die Hard is a Christmas movie.  Woke: E...   \n",
       "3   Okay I'm like 97% Die Hard is a Christmas movi...   \n",
       "4   「ダイ・ハード」がクリスマス映画かどうかを登場要素から徹底検証 https://t.co/y...   \n",
       "5   Okay, Darren, I concede. Even though Bruce Wil...   \n",
       "6   @FakeFakeNedYost If Die Hard is a Christmas mo...   \n",
       "7   Im sad cause I forgot to watch Die Hard for Ch...   \n",
       "8   Well, I guess Die Hard *is* a Christmas tradit...   \n",
       "9   Perhaps then a Boxing Day movie? https://t.co/...   \n",
       "10  If your Christmas movie prerequisites DQ Die H...   \n",
       "11  Final tally on top 5 Christmas movies: #1 Aven...   \n",
       "12  Just watched Die Hard again for the first time...   \n",
       "13  Forget 'Die Hard,' 'Go' Is the Ultimate Anti-C...   \n",
       "14  @BergmanGreg Pains me to write this. Die Hard ...   \n",
       "15  Now that Christmas is over, the new debate: is...   \n",
       "16               Die Hard is a Christmas car battery.   \n",
       "17  @elsalonrojo @Filmsteria Espero que esto ayude...   \n",
       "18  I guess Die Hard is a Christmas movie. https:/...   \n",
       "19  @MrCFB A Christmas Story, Die Hard, Rudolph th...   \n",
       "20  2018: the year everyone made a joke about how ...   \n",
       "21  There are two types of people in the world: th...   \n",
       "22  Christmas is ruined because I can’t find Die H...   \n",
       "23  Die Hard [is / is not] a Christmas movie. I co...   \n",
       "24  If die hard is a Christmas movie then friday a...   \n",
       "\n",
       "                                          clean_tweet  SA  \n",
       "0   terrible take die hard is a christmas movie an...  -1  \n",
       "1         uhhh die hard is a christmas movie fight me  -1  \n",
       "2   broke die hard is a christmas movie woke eyes ...  -1  \n",
       "3   okay im like 97 die hard is a christmas movie ...  -1  \n",
       "4                    「ダイ・ハード」がクリスマス映画かどうかを登場要素から徹底検証    0  \n",
       "5   okay darren i concede even though bruce willis...   1  \n",
       "6    if die hard is a christmas movie than die har...  -1  \n",
       "7   im sad cause i forgot to watch die hard for ch...  -1  \n",
       "8   well i guess die hard is a christmas tradition...  -1  \n",
       "9                    perhaps then a boxing day movie    0  \n",
       "10  if your christmas movie prerequisites dq die h...   1  \n",
       "11  final tally on top 5 christmas movies 1 avenge...   1  \n",
       "12  just watched die hard again for the first time...  -1  \n",
       "13  forget die hard go is the ultimate antichristm...  -1  \n",
       "14   pains me to write this die hard is one of my ...   1  \n",
       "15  now that christmas is over the new debate is d...  -1  \n",
       "16                die hard is a christmas car battery  -1  \n",
       "17   espero que esto ayude a terminar con la contr...   0  \n",
       "18             i guess die hard is a christmas movie   -1  \n",
       "19   a christmas story die hard rudolph the red no...  -1  \n",
       "20  2018 the year everyone made a joke about how d...  -1  \n",
       "21  there are two types of people in the world tho...  -1  \n",
       "22  christmas is ruined because i can’t find die h...  -1  \n",
       "23  die hard is is not a christmas movie i conside...  -1  \n",
       "24  if die hard is a christmas movie then friday a...  -1  "
      ]
     },
     "execution_count": 19,
     "metadata": {},
     "output_type": "execute_result"
    }
   ],
   "source": [
    "df['SA'] = np.array([analyze_sentiment(tweet) for tweet in df['clean_tweet']])\n",
    "df.head(25)"
   ]
  },
  {
   "cell_type": "markdown",
   "metadata": {},
   "source": [
    "Now that we have assigned a label for each tweet, let's classify them into positive, negative, or neutral tweets to find the percentages."
   ]
  },
  {
   "cell_type": "code",
   "execution_count": 20,
   "metadata": {},
   "outputs": [],
   "source": [
    "pos_tweets = [ tweet for index, tweet in enumerate(df['clean_tweet']) if df['SA'][index] > 0]\n",
    "neu_tweets = [ tweet for index, tweet in enumerate(df['clean_tweet']) if df['SA'][index] == 0]\n",
    "neg_tweets = [ tweet for index, tweet in enumerate(df['clean_tweet']) if df['SA'][index] < 0]"
   ]
  },
  {
   "cell_type": "code",
   "execution_count": 21,
   "metadata": {},
   "outputs": [
    {
     "name": "stdout",
     "output_type": "stream",
     "text": [
      "Percentage of positive tweets: 36.00381497377206%\n",
      "Percentage of neutral tweets: 3.4334763948497855%\n",
      "Percentage of negative tweets: 60.56270863137816%\n"
     ]
    }
   ],
   "source": [
    "print(\"Percentage of positive tweets: {}%\".format(len(pos_tweets)*100/len(df['clean_tweet'])))\n",
    "print(\"Percentage of neutral tweets: {}%\".format(len(neu_tweets)*100/len(df['clean_tweet'])))\n",
    "print(\"Percentage of negative tweets: {}%\".format(len(neg_tweets)*100/len(df['clean_tweet'])))"
   ]
  },
  {
   "cell_type": "markdown",
   "metadata": {},
   "source": [
    "## Limitations\n",
    "\n",
    "When looking at our tweets and the sentiment labels, there are some inaccuracies with the way some of the tweets are labelled. For example, “I guess Die Hard is a Christmas movie” was labelled as a negative tweet when it should be positive, while “Forget 'Die Hard,' 'Go' Is the Ultimate Anti-Christmas Movie” is labeled as negative as well, but should be neutral. "
   ]
  }
 ],
 "metadata": {
  "kernelspec": {
   "display_name": "Python 3",
   "language": "python",
   "name": "python3"
  },
  "language_info": {
   "codemirror_mode": {
    "name": "ipython",
    "version": 3
   },
   "file_extension": ".py",
   "mimetype": "text/x-python",
   "name": "python",
   "nbconvert_exporter": "python",
   "pygments_lexer": "ipython3",
   "version": "3.6.6"
  }
 },
 "nbformat": 4,
 "nbformat_minor": 2
}
